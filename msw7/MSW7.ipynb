{
 "cells": [
  {
   "cell_type": "markdown",
   "id": "3111f576",
   "metadata": {},
   "source": [
    "# Newton Carlo\n",
    "- Následující simulace nám pomůže zjistit pravděpodobnost pádu jablka na člověka sedícího pod stromem"
   ]
  },
  {
   "cell_type": "code",
   "execution_count": 1,
   "id": "c98509fc",
   "metadata": {},
   "outputs": [],
   "source": [
    "import numpy as np\n",
    "import matplotlib.pyplot as plt"
   ]
  },
  {
   "cell_type": "code",
   "execution_count": 2,
   "id": "34455d16",
   "metadata": {},
   "outputs": [],
   "source": [
    "def in_rect(rect, point):\n",
    "    x, y = point\n",
    "    x1, y1, x2, y2 = rect\n",
    "    if (x1 < x and x < x2):\n",
    "        if (y1 < y and y < y2):\n",
    "            return True\n",
    "\n",
    "def simulate(size_tree, size_human, n=10):\n",
    "    assert size_tree > size_human\n",
    "    \n",
    "    # human pos\n",
    "    pos = np.random.random() * (size_tree-size_human)\n",
    "    #                                         chest size\n",
    "    rect_human = (pos, pos, pos+size_human, pos+(size_human/2))\n",
    "    \n",
    "    trials = n\n",
    "    hits = 0\n",
    "    \n",
    "    for n in range(n):\n",
    "        # fallen apple pos\n",
    "        x = np.random.random() * size_tree\n",
    "        y = np.random.random() * size_tree\n",
    "\n",
    "        if in_rect(rect_human, (x, y)):\n",
    "            hits += 1\n",
    "    return hits"
   ]
  },
  {
   "cell_type": "markdown",
   "id": "c47acd67",
   "metadata": {},
   "source": [
    "Vyzkoušejme simulaci pro člověka s šířkou ramen 0.4m sedícího pod stromem o rozloze 25m²."
   ]
  },
  {
   "cell_type": "code",
   "execution_count": 3,
   "id": "d1ff4747",
   "metadata": {},
   "outputs": [
    {
     "name": "stdout",
     "output_type": "stream",
     "text": [
      "Pravděpodobnost: 0.312%\n"
     ]
    }
   ],
   "source": [
    "N = 1_000_000\n",
    "hits = simulate(5, 0.4, n=N)\n",
    "print(\"Pravděpodobnost: %.3f%%\" % (hits/N*100))"
   ]
  },
  {
   "cell_type": "markdown",
   "id": "42dfe287",
   "metadata": {},
   "source": [
    "Vyzkoušejme jak moc ovlivňuje šířka hrudníku (velikost člověka) pravděpodobnost."
   ]
  },
  {
   "cell_type": "code",
   "execution_count": 4,
   "id": "e0a9292a",
   "metadata": {},
   "outputs": [],
   "source": [
    "sizes = np.linspace(0.25, 0.5, 10)\n",
    "N = 1_000_000\n",
    "\n",
    "probs = []\n",
    "for size in sizes:\n",
    "    hits = simulate(5, size, n=N)\n",
    "    prob = hits/N*100\n",
    "    probs.append(prob)"
   ]
  },
  {
   "cell_type": "code",
   "execution_count": 5,
   "id": "009e4533",
   "metadata": {
    "scrolled": false
   },
   "outputs": [
    {
     "name": "stdout",
     "output_type": "stream",
     "text": [
      "Šířka ramen: 0.25m Pravděpodobnost: 0.125%\n",
      "Šířka ramen: 0.28m Pravděpodobnost: 0.154%\n",
      "Šířka ramen: 0.31m Pravděpodobnost: 0.190%\n",
      "Šířka ramen: 0.33m Pravděpodobnost: 0.214%\n",
      "Šířka ramen: 0.36m Pravděpodobnost: 0.269%\n",
      "Šířka ramen: 0.39m Pravděpodobnost: 0.305%\n",
      "Šířka ramen: 0.42m Pravděpodobnost: 0.340%\n",
      "Šířka ramen: 0.44m Pravděpodobnost: 0.399%\n",
      "Šířka ramen: 0.47m Pravděpodobnost: 0.439%\n",
      "Šířka ramen: 0.50m Pravděpodobnost: 0.506%\n"
     ]
    }
   ],
   "source": [
    "for s, p in zip(sizes, probs):\n",
    "    print(\"Šířka ramen: %.2fm Pravděpodobnost: %.3f%%\" % (s, p))"
   ]
  },
  {
   "cell_type": "markdown",
   "id": "49abc945",
   "metadata": {},
   "source": [
    "Rozdíl pravděpodobností mezi nejmenším a největším člověkem."
   ]
  },
  {
   "cell_type": "code",
   "execution_count": 6,
   "id": "b79839ac",
   "metadata": {},
   "outputs": [
    {
     "name": "stdout",
     "output_type": "stream",
     "text": [
      "Absolutní: 0.381% Relativní: 405.529% Poměr: 4.06x \n"
     ]
    }
   ],
   "source": [
    "ratio = probs[-1]/probs[0]\n",
    "absolute = probs[-1]-probs[0]\n",
    "relative = ratio*100\n",
    "print(\"Absolutní: %.3f%% Relativní: %.3f%% Poměr: %.2fx \" % (absolute, relative, ratio))"
   ]
  },
  {
   "cell_type": "markdown",
   "id": "61efcf8e",
   "metadata": {},
   "source": [
    "Z grafu můžeme soudit, že pravděpodobnost roste lineárně."
   ]
  },
  {
   "cell_type": "code",
   "execution_count": 7,
   "id": "c93ffab5",
   "metadata": {},
   "outputs": [
    {
     "data": {
      "image/png": "[encoded data removed]",
      "text/plain": [
       "<Figure size 576x576 with 1 Axes>"
      ]
     },
     "metadata": {
      "needs_background": "light"
     },
     "output_type": "display_data"
    }
   ],
   "source": [
    "plt.figure(figsize=(8, 8))\n",
    "\n",
    "plt.xticks(range(len(probs)), [\"%.2fm\" % s for s in sizes], rotation=-45)\n",
    "plt.xlabel(\"Šířka hrudníku\")\n",
    "plt.ylabel(\"Pravděpodobnost (%)\")\n",
    "\n",
    "plt.bar(range(len(probs)), probs);"
   ]
  },
  {
   "cell_type": "markdown",
   "id": "6f588373",
   "metadata": {},
   "source": [
    "Vyzkoušejme, zda opravdu roste lineárně (i pro nereálně velké osoby)."
   ]
  },
  {
   "cell_type": "code",
   "execution_count": 8,
   "id": "4f0af8b9",
   "metadata": {},
   "outputs": [],
   "source": [
    "sizes = np.linspace(0.25, 3, 30)\n",
    "N = 1_000_000\n",
    "\n",
    "probs = []\n",
    "for size in sizes:\n",
    "    hits = simulate(5, size, n=N)\n",
    "    prob = hits/N*100\n",
    "    probs.append(prob)"
   ]
  },
  {
   "cell_type": "markdown",
   "id": "aea32e8b",
   "metadata": {},
   "source": [
    "Vypadá to, že pravděpodobnost neroste lineárně, jak se na první pohled zdálo, ale exponenciálně."
   ]
  },
  {
   "cell_type": "code",
   "execution_count": 9,
   "id": "8fec711c",
   "metadata": {},
   "outputs": [
    {
     "data": {
      "image/png": "[encoded data removed]",
      "text/plain": [
       "<Figure size 1080x720 with 1 Axes>"
      ]
     },
     "metadata": {
      "needs_background": "light"
     },
     "output_type": "display_data"
    }
   ],
   "source": [
    "plt.figure(figsize=(15, 10))\n",
    "\n",
    "plt.xticks(range(len(probs)), [\"%.2fm\" % s for s in sizes], rotation=-45)\n",
    "plt.xlabel(\"Šířka hrudníku\")\n",
    "plt.ylabel(\"Pravděpodobnost (%)\")\n",
    "\n",
    "plt.bar(range(len(probs)), probs);"
   ]
  }
 ],
 "metadata": {
  "kernelspec": {
   "display_name": "Python 3 (ipykernel)",
   "language": "python",
   "name": "python3"
  },
  "language_info": {
   "codemirror_mode": {
    "name": "ipython",
    "version": 3
   },
   "file_extension": ".py",
   "mimetype": "text/x-python",
   "name": "python",
   "nbconvert_exporter": "python",
   "pygments_lexer": "ipython3",
   "version": "3.9.2"
  }
 },
 "nbformat": 4,
 "nbformat_minor": 5
}
